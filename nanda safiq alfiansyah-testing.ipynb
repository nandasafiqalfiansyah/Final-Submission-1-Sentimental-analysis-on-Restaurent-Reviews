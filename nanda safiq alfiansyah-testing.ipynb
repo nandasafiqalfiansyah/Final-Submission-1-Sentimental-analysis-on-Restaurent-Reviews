{
  "cells": [
    {
      "cell_type": "markdown",
      "metadata": {},
      "source": [
        "##Sentimental analysis on Restaurent Reviews TEST"
      ]
    },
    {
      "cell_type": "code",
      "execution_count": 1,
      "metadata": {
        "id": "tOiZLH4Bo9JX"
      },
      "outputs": [],
      "source": [
        "import requests\n",
        "import pandas as pd\n",
        "import json\n",
        "import base64\n",
        "import matplotlib.pyplot as plt\n",
        "import tensorflow as tf\n",
        "import requests\n",
        "from pprint import PrettyPrinter\n"
      ]
    },
    {
      "cell_type": "code",
      "execution_count": 2,
      "metadata": {
        "id": "UaFftV8PpLZm"
      },
      "outputs": [
        {
          "data": {
            "text/html": [
              "<div>\n",
              "<style scoped>\n",
              "    .dataframe tbody tr th:only-of-type {\n",
              "        vertical-align: middle;\n",
              "    }\n",
              "\n",
              "    .dataframe tbody tr th {\n",
              "        vertical-align: top;\n",
              "    }\n",
              "\n",
              "    .dataframe thead th {\n",
              "        text-align: right;\n",
              "    }\n",
              "</style>\n",
              "<table border=\"1\" class=\"dataframe\">\n",
              "  <thead>\n",
              "    <tr style=\"text-align: right;\">\n",
              "      <th></th>\n",
              "      <th>Review</th>\n",
              "      <th>Liked</th>\n",
              "    </tr>\n",
              "  </thead>\n",
              "  <tbody>\n",
              "    <tr>\n",
              "      <th>0</th>\n",
              "      <td>Wow... Loved this place.</td>\n",
              "      <td>1</td>\n",
              "    </tr>\n",
              "    <tr>\n",
              "      <th>1</th>\n",
              "      <td>Crust is not good.</td>\n",
              "      <td>0</td>\n",
              "    </tr>\n",
              "    <tr>\n",
              "      <th>2</th>\n",
              "      <td>Not tasty and the texture was just nasty.</td>\n",
              "      <td>0</td>\n",
              "    </tr>\n",
              "    <tr>\n",
              "      <th>3</th>\n",
              "      <td>Stopped by during the late May bank holiday of...</td>\n",
              "      <td>1</td>\n",
              "    </tr>\n",
              "    <tr>\n",
              "      <th>4</th>\n",
              "      <td>The selection on the menu was great and so wer...</td>\n",
              "      <td>1</td>\n",
              "    </tr>\n",
              "  </tbody>\n",
              "</table>\n",
              "</div>"
            ],
            "text/plain": [
              "                                              Review  Liked\n",
              "0                           Wow... Loved this place.      1\n",
              "1                                 Crust is not good.      0\n",
              "2          Not tasty and the texture was just nasty.      0\n",
              "3  Stopped by during the late May bank holiday of...      1\n",
              "4  The selection on the menu was great and so wer...      1"
            ]
          },
          "execution_count": 2,
          "metadata": {},
          "output_type": "execute_result"
        }
      ],
      "source": [
        "data = pd.read_csv('data/Restaurant_Reviews.csv')\n",
        "data.head()"
      ]
    },
    {
      "cell_type": "code",
      "execution_count": 3,
      "metadata": {
        "colab": {
          "base_uri": "https://localhost:8080/",
          "height": 36
        },
        "id": "fBjQIKRZpaNu",
        "outputId": "3b570939-11ca-45cf-f792-750aad8513bc"
      },
      "outputs": [
        {
          "data": {
            "text/plain": [
              "'The selection on the menu was great and so were the prices.'"
            ]
          },
          "execution_count": 3,
          "metadata": {},
          "output_type": "execute_result"
        }
      ],
      "source": [
        "Review_test = data['Review'][4]\n",
        "Review_test"
      ]
    },
    {
      "cell_type": "code",
      "execution_count": 4,
      "metadata": {},
      "outputs": [
        {
          "name": "stdout",
          "output_type": "stream",
          "text": [
            "{'model_version_status': [{'state': 'AVAILABLE',\n",
            "                           'status': {'error_code': 'OK', 'error_message': ''},\n",
            "                           'version': '1713691875'}]}\n"
          ]
        }
      ],
      "source": [
        "pp = PrettyPrinter()\n",
        "pp.pprint(requests.get(\"http://103.190.215.21:8501/v1/models/restaurant-reviews-model\").json())"
      ]
    },
    {
      "cell_type": "code",
      "execution_count": 5,
      "metadata": {
        "colab": {
          "base_uri": "https://localhost:8080/",
          "height": 408
        },
        "id": "PiJAICgepl2u",
        "outputId": "35517eca-673e-437f-a722-55ec043469f0"
      },
      "outputs": [],
      "source": [
        "def prepare_json(Review):\n",
        "    feature_spec = {\n",
        "        \"Review\": tf.train.Feature(bytes_list=tf.train.BytesList(value=[bytes(Review, \"utf-8\")])),\n",
        "    }\n",
        "    \n",
        "    example = tf.train.Example(\n",
        "        features=tf.train.Features(feature=feature_spec)\n",
        "    ).SerializeToString()\n",
        "    \n",
        "    result = [\n",
        "        {\n",
        "            \"examples\": {\n",
        "                \"b64\": base64.b64encode(example).decode()\n",
        "            }\n",
        "        }\n",
        "    ]\n",
        "    \n",
        "    return json.dumps({\n",
        "        \"signature_name\": \"serving_default\",\n",
        "        \"instances\": result\n",
        "    })"
      ]
    },
    {
      "cell_type": "code",
      "execution_count": 6,
      "metadata": {},
      "outputs": [
        {
          "name": "stdout",
          "output_type": "stream",
          "text": [
            "[[0.999248683]]\n",
            "Review Positif\n"
          ]
        }
      ],
      "source": [
        "response = requests.post(\"http://103.190.215.21:8501/v1/models/restaurant-reviews-model:predict\", data=prepare_json(Review_test))\n",
        "prediction = response.json().get(\"predictions\")\n",
        "\n",
        "print(prediction)\n",
        "if prediction:\n",
        "    prediction_value = prediction[0][0]\n",
        "    result = \"Review Positif\" if prediction_value > 0.6 else \"Review negatif\"\n",
        "else:\n",
        "    result = \"Error: No predictions found in response.\"\n",
        "\n",
        "print(result)"
      ]
    },
    {
      "cell_type": "code",
      "execution_count": 7,
      "metadata": {},
      "outputs": [
        {
          "data": {
            "image/png": "[encoded data removed]",
            "text/plain": [
              "<Figure size 640x480 with 1 Axes>"
            ]
          },
          "metadata": {},
          "output_type": "display_data"
        }
      ],
      "source": [
        "labels = ['Positif', 'Negatif']\n",
        "sizes = [prediction_value, 1 - prediction_value] \n",
        "\n",
        "fig1, ax1 = plt.subplots()\n",
        "ax1.pie(sizes, labels=labels, autopct='%1.1f%%', startangle=90)\n",
        "ax1.axis('equal') \n",
        "\n",
        "plt.title('Hasil Prediksi Sentimen')\n",
        "plt.show()"
      ]
    }
  ],
  "metadata": {
    "colab": {
      "provenance": []
    },
    "kernelspec": {
      "display_name": "Python 3",
      "name": "python3"
    },
    "language_info": {
      "codemirror_mode": {
        "name": "ipython",
        "version": 3
      },
      "file_extension": ".py",
      "mimetype": "text/x-python",
      "name": "python",
      "nbconvert_exporter": "python",
      "pygments_lexer": "ipython3",
      "version": "3.10.11"
    }
  },
  "nbformat": 4,
  "nbformat_minor": 0
}
